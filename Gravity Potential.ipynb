{
 "cells": [
  {
   "cell_type": "markdown",
   "metadata": {},
   "source": [
    "Numerical Sultions For Gravity Potential\n",
    "By Joshua Martel"
   ]
  },
  {
   "cell_type": "code",
   "execution_count": 105,
   "metadata": {},
   "outputs": [],
   "source": [
    "from sympy import *\n",
    "\n",
    "# this command makes pretty looking formula printing\n",
    "init_printing(pretty_print=True)\n"
   ]
  },
  {
   "cell_type": "code",
   "execution_count": 106,
   "metadata": {},
   "outputs": [],
   "source": [
    "x, r, R, theta, G, M, g, lam = symbols('x r R theta G M g lambda')\n",
    "n = symbols('n', integer=True)\n",
    "f, genfun, Phi = symbols('f genfun Phi', cls=Function)"
   ]
  },
  {
   "cell_type": "markdown",
   "metadata": {},
   "source": [
    "The potential equation of a ring will be\n",
    "\\\n",
    "$\\Phi = -G\\int_{}^{}\\frac{dM}{s} = -G\\int_{0}^{2\\pi}\\frac{\\lambda Rd\\theta}{s}$\n",
    "\\\n",
    "where $\\lambda$ is the line density and s is the distance from a point on the ring"
   ]
  },
  {
   "cell_type": "markdown",
   "metadata": {},
   "source": [
    "Using the law of cosines gives \n",
    "\\\n",
    "$s^2 = R^2 + r^2 - 2Rrcos\\theta$\n",
    "\\\n",
    "and plugging into last equation gives\n",
    "\\\n",
    "$\\Phi = -2R\\lambda G\\int_{0}^{2\\pi}\\frac{d\\theta}{(R^2 + r^2 - 2Rrcos)^\\frac{1}{2}}$\n",
    "\\\n",
    "$ = \\frac{-2R\\lambda}{R} G\\int_{0}^{2\\pi}\\frac{d\\theta}{(1 + \\frac{r^2}{R^2} - 2\\frac{r}{R}cos)^\\frac{1}{2}}$\n",
    "\\\n",
    "let x = $\\frac{r}{R}$"
   ]
  },
  {
   "cell_type": "code",
   "execution_count": 107,
   "metadata": {},
   "outputs": [
    {
     "data": {
      "image/png": "[encoded data removed]",
      "text/latex": [
       "$\\displaystyle \\frac{1}{\\sqrt{x^{2} - 2 x \\cos{\\left(\\theta \\right)} + 1}}$"
      ],
      "text/plain": [
       "           1            \n",
       "────────────────────────\n",
       "   _____________________\n",
       "  ╱  2                  \n",
       "╲╱  x  - 2⋅x⋅cos(θ) + 1 "
      ]
     },
     "execution_count": 107,
     "metadata": {},
     "output_type": "execute_result"
    }
   ],
   "source": [
    "#Process is exactly like that of turorial, so I will use that code.\n",
    "genfun = 1/sqrt(1+x**2-2*x*cos(theta))\n",
    "genfun"
   ]
  },
  {
   "cell_type": "code",
   "execution_count": 108,
   "metadata": {},
   "outputs": [
    {
     "data": {
      "image/png": "[encoded data removed]",
      "text/latex": [
       "$\\displaystyle 1 + x \\cos{\\left(\\theta \\right)} + x^{2} \\left(\\frac{3 \\cos^{2}{\\left(\\theta \\right)}}{2} - \\frac{1}{2}\\right) + x^{3} \\left(\\frac{5 \\cos^{3}{\\left(\\theta \\right)}}{2} - \\frac{3 \\cos{\\left(\\theta \\right)}}{2}\\right) + O\\left(x^{4}\\right)$"
      ],
      "text/plain": [
       "                  ⎛     2       ⎞      ⎛     3              ⎞        \n",
       "                2 ⎜3⋅cos (θ)   1⎟    3 ⎜5⋅cos (θ)   3⋅cos(θ)⎟    ⎛ 4⎞\n",
       "1 + x⋅cos(θ) + x ⋅⎜───────── - ─⎟ + x ⋅⎜───────── - ────────⎟ + O⎝x ⎠\n",
       "                  ⎝    2       2⎠      ⎝    2          2    ⎠        "
      ]
     },
     "execution_count": 108,
     "metadata": {},
     "output_type": "execute_result"
    }
   ],
   "source": [
    "genfun.series(x,0,4)"
   ]
  },
  {
   "cell_type": "code",
   "execution_count": 109,
   "metadata": {
    "scrolled": true
   },
   "outputs": [
    {
     "data": {
      "image/png": "[encoded data removed]",
      "text/latex": [
       "$\\displaystyle x^{3} \\left(\\frac{5 \\cos^{3}{\\left(\\theta \\right)}}{2} - \\frac{3 \\cos{\\left(\\theta \\right)}}{2}\\right) + x^{2} \\left(\\frac{3 \\cos^{2}{\\left(\\theta \\right)}}{2} - \\frac{1}{2}\\right) + x \\cos{\\left(\\theta \\right)} + 1$"
      ],
      "text/plain": [
       "   ⎛     3              ⎞      ⎛     2       ⎞               \n",
       " 3 ⎜5⋅cos (θ)   3⋅cos(θ)⎟    2 ⎜3⋅cos (θ)   1⎟               \n",
       "x ⋅⎜───────── - ────────⎟ + x ⋅⎜───────── - ─⎟ + x⋅cos(θ) + 1\n",
       "   ⎝    2          2    ⎠      ⎝    2       2⎠               "
      ]
     },
     "execution_count": 109,
     "metadata": {},
     "output_type": "execute_result"
    }
   ],
   "source": [
    "getfunc_trunc = (genfun.series(x,0,4)).removeO()\n",
    "getfunc_trunc"
   ]
  },
  {
   "cell_type": "code",
   "execution_count": 110,
   "metadata": {},
   "outputs": [
    {
     "data": {
      "image/png": "[encoded data removed]",
      "text/latex": [
       "$\\displaystyle \\left[ 1, \\  \\cos{\\left(\\theta \\right)}, \\  \\frac{3 \\cos^{2}{\\left(\\theta \\right)} - 1}{2}, \\  \\frac{\\left(5 \\cos^{2}{\\left(\\theta \\right)} - 3\\right) \\cos{\\left(\\theta \\right)}}{2}\\right]$"
      ],
      "text/plain": [
       "⎡                2         ⎛     2       ⎞       ⎤\n",
       "⎢           3⋅cos (θ) - 1  ⎝5⋅cos (θ) - 3⎠⋅cos(θ)⎥\n",
       "⎢1, cos(θ), ─────────────, ──────────────────────⎥\n",
       "⎣                 2                  2           ⎦"
      ]
     },
     "execution_count": 110,
     "metadata": {},
     "output_type": "execute_result"
    }
   ],
   "source": [
    "coeff = [getfunc_trunc.coeff(x,i).factor() for i in range(4)]\n",
    "coeff"
   ]
  },
  {
   "cell_type": "code",
   "execution_count": 111,
   "metadata": {},
   "outputs": [
    {
     "data": {
      "image/png": "[encoded data removed]",
      "text/latex": [
       "$\\displaystyle \\left( 1, \\  \\cos{\\left(\\theta \\right)}, \\  \\frac{3 \\cos^{2}{\\left(\\theta \\right)}}{2} - \\frac{1}{2}, \\  \\frac{5 \\cos^{3}{\\left(\\theta \\right)}}{2} - \\frac{3 \\cos{\\left(\\theta \\right)}}{2}\\right)$"
      ],
      "text/plain": [
       "⎛                2              3              ⎞\n",
       "⎜           3⋅cos (θ)   1  5⋅cos (θ)   3⋅cos(θ)⎟\n",
       "⎜1, cos(θ), ───────── - ─, ───────── - ────────⎟\n",
       "⎝               2       2      2          2    ⎠"
      ]
     },
     "execution_count": 111,
     "metadata": {},
     "output_type": "execute_result"
    }
   ],
   "source": [
    "legendre(0,cos(theta)), legendre(1,cos(theta)),\\\n",
    "legendre(2,cos(theta)), legendre(3,cos(theta))"
   ]
  },
  {
   "cell_type": "code",
   "execution_count": 112,
   "metadata": {},
   "outputs": [
    {
     "data": {
      "image/png": "[encoded data removed]",
      "text/latex": [
       "$\\displaystyle \\frac{\\pi x^{2}}{4} + \\pi$"
      ],
      "text/plain": [
       "   2    \n",
       "π⋅x     \n",
       "──── + π\n",
       " 4      "
      ]
     },
     "execution_count": 112,
     "metadata": {},
     "output_type": "execute_result"
    }
   ],
   "source": [
    "integral = integrate(getfunc_trunc, (theta,0,pi))\n",
    "integral"
   ]
  },
  {
   "cell_type": "code",
   "execution_count": 113,
   "metadata": {},
   "outputs": [
    {
     "data": {
      "image/png": "[encoded data removed]",
      "text/latex": [
       "$\\displaystyle - 2 G \\lambda x \\left(\\frac{\\pi x^{2}}{4} + \\pi\\right)$"
      ],
      "text/plain": [
       "         ⎛   2    ⎞\n",
       "         ⎜π⋅x     ⎟\n",
       "-2⋅G⋅λ⋅x⋅⎜──── + π⎟\n",
       "         ⎝ 4      ⎠"
      ]
     },
     "execution_count": 113,
     "metadata": {},
     "output_type": "execute_result"
    }
   ],
   "source": [
    "phi = -2*lam*x*G*integral\n",
    "phi"
   ]
  },
  {
   "cell_type": "code",
   "execution_count": 114,
   "metadata": {},
   "outputs": [
    {
     "name": "stdout",
     "output_type": "stream",
     "text": [
      "The gravitational potential of the ring for r < R is\n"
     ]
    },
    {
     "data": {
      "image/png": "[encoded data removed]",
      "text/latex": [
       "$\\displaystyle - \\frac{G M x \\left(\\frac{\\pi x^{2}}{4} + \\pi\\right)}{\\pi r}$"
      ],
      "text/plain": [
       "       ⎛   2    ⎞ \n",
       "       ⎜π⋅x     ⎟ \n",
       "-G⋅M⋅x⋅⎜──── + π⎟ \n",
       "       ⎝ 4      ⎠ \n",
       "──────────────────\n",
       "       π⋅r        "
      ]
     },
     "execution_count": 114,
     "metadata": {},
     "output_type": "execute_result"
    }
   ],
   "source": [
    "#This is where the code differs from the turorial\n",
    "f = phi.subs({lam:M/(2*pi*r)})\n",
    "print (\"The gravitational potential of the ring for r < R is\")\n",
    "f"
   ]
  },
  {
   "cell_type": "markdown",
   "metadata": {},
   "source": [
    "Part b"
   ]
  },
  {
   "cell_type": "code",
   "execution_count": 115,
   "metadata": {},
   "outputs": [
    {
     "name": "stdout",
     "output_type": "stream",
     "text": [
      "The gravitational potential of Jupiter's ring at Earth's orbit is -164410.261159293 SI units\n"
     ]
    }
   ],
   "source": [
    "RJ = 7.784e11  # radius of Jupiter's orbit in m\n",
    "MJ = 1.90e27   # Jupiter's mass in kg\n",
    "GN = 6.674e-11 # Newton's gravitational constant in SI units\n",
    "RE = 1.496e11  # radius of Earth's orbit in m\n",
    "\n",
    "fJE = (f.subs({G:GN, M:MJ, r:RE, x:(RE/RJ)}))\n",
    "print (\"The gravitational potential of Jupiter's ring\",\\\n",
    "       \"at Earth's orbit is\",fJE,\"SI units\")"
   ]
  },
  {
   "cell_type": "markdown",
   "metadata": {},
   "source": [
    "Part c"
   ]
  },
  {
   "cell_type": "code",
   "execution_count": 116,
   "metadata": {},
   "outputs": [],
   "source": [
    "#Libraries for calculations\n",
    "import numpy as np\n",
    "import mpmath"
   ]
  },
  {
   "cell_type": "code",
   "execution_count": 117,
   "metadata": {},
   "outputs": [],
   "source": [
    "#This is the potential function\n",
    "f = lambda i:1/sqrt(1+(RS/RJ)**2-2*(RS/RJ)*cos(i*np.pi/(N/2)))"
   ]
  },
  {
   "cell_type": "code",
   "execution_count": 119,
   "metadata": {
    "scrolled": false
   },
   "outputs": [
    {
     "name": "stdout",
     "output_type": "stream",
     "text": [
      "1.19218910585817\n",
      "1.19218910585817\n",
      "1.61885699433571\n",
      "1.20515604903958\n",
      "1.11393261024906\n",
      "1.06040712977108\n",
      "1.03114423170828\n",
      "1.01581844247296\n",
      "1.00797227572898\n",
      "1.00400209074996\n",
      "1.00200505758619\n",
      "1.00100353486569\n",
      "1.0005020193298\n",
      "1.00025107268657\n",
      "1.00012555210464\n"
     ]
    }
   ],
   "source": [
    "RJ = 7.784e11  # radius of Jupiter's orbit in m\n",
    "MJ = 1.90e27   # Jupiter's mass in kg\n",
    "GN = 6.674e-11 # Newton's gravitational constant in SI units\n",
    "RE = 1.496e11  # radius of Earth's orbit in m\n",
    "\n",
    "#Base cases.Allows following loop to run\n",
    "#initial values and equations to use\n",
    "N = 1\n",
    "cof = -2*GN*MJ/RJ\n",
    "a = i*np.pi/(N/2)\n",
    "\n",
    "#This sums in terms of values of i in f\n",
    "preout = mpmath.nsum(f, [0, N/2])*cof\n",
    "\n",
    "#Set up for next N\n",
    "N = 2\n",
    "MJ = MJ/N\n",
    "cof = -2*GN*MJ/RJ\n",
    "a = i*np.pi/(N/2)\n",
    "\n",
    "output = mpmath.nsum(f, [0, N/2])*cof\n",
    "\n",
    "#The idea is to take the ratio of the previus value over the output, and the closue it is to 1 the\n",
    "#more accurate our calculation is\n",
    "aprox = abs(preout/output)\n",
    "\n",
    "#Keep track of what is happening\n",
    "print(aprox)\n",
    "\n",
    "#itereates through values of N*2\n",
    "while aprox > 0.0001+1:\n",
    "    MJ = 1.90e27 \n",
    "    print(aprox)\n",
    "    N *= 2\n",
    "    MJ = MJ/N\n",
    "    cof = -2*GN*MJ/RJ\n",
    "    output = mpmath.nsum(f, [0, N/2])*cof\n",
    "    aprox = abs(preout/output)\n",
    "    preout = output\n"
   ]
  },
  {
   "cell_type": "code",
   "execution_count": 121,
   "metadata": {
    "scrolled": true
   },
   "outputs": [
    {
     "name": "stdout",
     "output_type": "stream",
     "text": [
      "32768\n",
      "-164410.261159293\n",
      "-164452.665209495\n",
      "-42.4040502025455\n"
     ]
    }
   ],
   "source": [
    "print(N)\n",
    "print(fJE)\n",
    "print(output)\n",
    "print(output - fJE)"
   ]
  },
  {
   "cell_type": "markdown",
   "metadata": {},
   "source": [
    "So it takes 32768 individual masses to get desired accuracy, and this result differs by -42 units from answer from part b"
   ]
  },
  {
   "cell_type": "markdown",
   "metadata": {},
   "source": [
    "Part d"
   ]
  },
  {
   "cell_type": "code",
   "execution_count": 155,
   "metadata": {},
   "outputs": [],
   "source": [
    "RJ = 7.784e11  # radius of Jupiter's orbit in m\n",
    "MJ = 1.90e27   # Jupiter's mass in kg\n",
    "GN = 6.674e-11 # Newton's gravitational constant in SI units\n",
    "RS = 1.496e11  # \n",
    "#list of potentials\n",
    "potential = []\n",
    "\n",
    "MJ = 1.90e27   \n",
    "r1 = 0.0\n",
    "N = 1\n",
    "cof = -2*GN*MJ/RJ\n",
    "a = i*np.pi/(N/2)\n",
    "RS *= r1\n",
    "#f needs to be reset for every RS\n",
    "f = lambda i:1/sqrt(1+(RS/RJ)**2-2*(RS/RJ)*cos(i*np.pi/(N/2)))\n",
    "\n",
    "preout = mpmath.nsum(f, [0, N/2])*cof\n",
    "\n",
    "N = 2\n",
    "MJ = MJ/N\n",
    "cof = -2*GN*MJ/RJ\n",
    "a = i*np.pi/(N/2)\n",
    "\n",
    "output = mpmath.nsum(f, [0, N/2])*cof\n",
    "pot0 = output\n",
    "aprox = abs(preout/output)\n",
    "#Same as for part c, except interates for ever r1\n",
    "while r1 < 1:\n",
    "    MJ = 1.90e27\n",
    "    RS = 1.496e11\n",
    "    RS *= r1\n",
    "    N = 1\n",
    "    \n",
    "    cof = -2*GN*MJ/RJ\n",
    "    a = i*np.pi/(N/2)\n",
    "    \n",
    "    f = lambda i:1/sqrt(1+(RS/RJ)**2-2*(RS/RJ)*cos(i*np.pi/(N/2)))\n",
    "    preout = mpmath.nsum(f, [0, N/2])*cof\n",
    "\n",
    "    N = 2\n",
    "    MJ = MJ/N\n",
    "    cof = -2*GN*MJ/RJ\n",
    "    a = i*np.pi/(N/2)\n",
    "    \n",
    "    output = mpmath.nsum(f, [0, N/2])*cof\n",
    "    aprox = abs(preout/output)\n",
    "    #next loop does not run for r1 == 0.0\n",
    "    if r1 == 0.0:\n",
    "        pot0 = output\n",
    "    while aprox > 0.0001+1:\n",
    "        MJ = 1.90e27 \n",
    "        N *= 2\n",
    "        MJ = MJ/N\n",
    "        cof = -2*GN*MJ/RJ\n",
    "        output = mpmath.nsum(f, [0, N/2])*cof\n",
    "        aprox = abs(preout/output)\n",
    "        preout = output\n",
    "    potential.append(abs(pot0 - output))\n",
    "    r1 += 0.2"
   ]
  },
  {
   "cell_type": "code",
   "execution_count": 156,
   "metadata": {},
   "outputs": [],
   "source": [
    "from matplotlib.pyplot import *\n",
    "%matplotlib inline\n",
    " \n",
    "from IPython.display import set_matplotlib_formats\n",
    "set_matplotlib_formats('png', 'pdf')"
   ]
  },
  {
   "cell_type": "code",
   "execution_count": 157,
   "metadata": {},
   "outputs": [
    {
     "data": {
      "text/plain": [
       "[<matplotlib.lines.Line2D at 0x1a6cc5a1390>]"
      ]
     },
     "execution_count": 157,
     "metadata": {},
     "output_type": "execute_result"
    },
    {
     "data": {
      "application/pdf": "[encoded data removed]",
      "image/png": "[encoded data removed]",
      "text/plain": [
       "<Figure size 432x288 with 1 Axes>"
      ]
     },
     "metadata": {
      "needs_background": "light"
     },
     "output_type": "display_data"
    }
   ],
   "source": [
    "RS = 1.496e11\n",
    "rlist = [0.0,0.2,0.4,0.6,0.8]\n",
    "\n",
    "figure(1)\n",
    "title(\"Potential Vs r\")\n",
    "ylim(bottom = 161910, top = 162840)\n",
    "plot(rlist,potential)"
   ]
  },
  {
   "cell_type": "code",
   "execution_count": 158,
   "metadata": {},
   "outputs": [
    {
     "data": {
      "text/plain": [
       "[mpf('0.0'),\n",
       " mpf('162835.78117523005'),\n",
       " mpf('162654.46739188206'),\n",
       " mpf('162350.2474912286'),\n",
       " mpf('161920.00913961657')]"
      ]
     },
     "execution_count": 158,
     "metadata": {},
     "output_type": "execute_result"
    }
   ],
   "source": [
    "#lets look at the values of potential, and examine their differences \n",
    "potential"
   ]
  },
  {
   "cell_type": "code",
   "execution_count": 159,
   "metadata": {},
   "outputs": [
    {
     "data": {
      "image/png": "[encoded data removed]",
      "text/latex": [
       "$\\displaystyle 181.313783347985$"
      ],
      "text/plain": [
       "181.313783347985"
      ]
     },
     "execution_count": 159,
     "metadata": {},
     "output_type": "execute_result"
    }
   ],
   "source": [
    "162835.78117523005-162654.46739188206"
   ]
  },
  {
   "cell_type": "code",
   "execution_count": 160,
   "metadata": {},
   "outputs": [
    {
     "data": {
      "image/png": "[encoded data removed]",
      "text/latex": [
       "$\\displaystyle 304.2199006534647$"
      ],
      "text/plain": [
       "304.2199006534647"
      ]
     },
     "execution_count": 160,
     "metadata": {},
     "output_type": "execute_result"
    }
   ],
   "source": [
    "162654.46739188206-162350.2474912286"
   ]
  },
  {
   "cell_type": "code",
   "execution_count": 161,
   "metadata": {},
   "outputs": [
    {
     "data": {
      "image/png": "[encoded data removed]",
      "text/latex": [
       "$\\displaystyle 430.2383516120317$"
      ],
      "text/plain": [
       "430.2383516120317"
      ]
     },
     "execution_count": 161,
     "metadata": {},
     "output_type": "execute_result"
    }
   ],
   "source": [
    "162350.2474912286-161920.00913961657"
   ]
  },
  {
   "cell_type": "code",
   "execution_count": 162,
   "metadata": {},
   "outputs": [
    {
     "name": "stdout",
     "output_type": "stream",
     "text": [
      "The gravitational potential of the ring for r < R is\n"
     ]
    },
    {
     "data": {
      "image/png": "[encoded data removed]",
      "text/latex": [
       "$\\displaystyle - \\frac{G M x \\left(\\frac{\\pi x^{2}}{4} + \\pi\\right)}{\\pi r}$"
      ],
      "text/plain": [
       "       ⎛   2    ⎞ \n",
       "       ⎜π⋅x     ⎟ \n",
       "-G⋅M⋅x⋅⎜──── + π⎟ \n",
       "       ⎝ 4      ⎠ \n",
       "──────────────────\n",
       "       π⋅r        "
      ]
     },
     "execution_count": 162,
     "metadata": {},
     "output_type": "execute_result"
    }
   ],
   "source": [
    "f1 = phi.subs({lam:M/(2*pi*r)})\n",
    "print (\"The gravitational potential of the ring for r < R is\")\n",
    "f1"
   ]
  },
  {
   "cell_type": "code",
   "execution_count": 163,
   "metadata": {},
   "outputs": [
    {
     "name": "stdout",
     "output_type": "stream",
     "text": [
      "The gravitational potential r = 0.0 \n",
      " nan\n",
      "The gravitational potential r = 0.2 \n",
      " -162966.132954080\n",
      "The gravitational potential r = 0.4 \n",
      " -163146.648979731\n",
      "The gravitational potential r = 0.6000000000000001 \n",
      " -163447.509022484\n",
      "The gravitational potential r = 0.8 \n",
      " -163868.713082338\n"
     ]
    }
   ],
   "source": [
    "#compare values of potential to that of above equation\n",
    "RJ = 7.784e11  \n",
    "MJ = 1.90e27   \n",
    "GN = 6.674e-11 \n",
    "RS = 1.496e11  \n",
    "r1 = 0.0\n",
    "potlist = []\n",
    "while r1 < 1:   \n",
    "    pot1 = (f1.subs({G:GN, M:MJ, r:RS*r1, x:(RS*r1/RJ)}))\n",
    "    \n",
    "    print (\"The gravitational potential r =\",r1,\"\\n\",pot1)\n",
    "    r1 +=0.2"
   ]
  },
  {
   "cell_type": "code",
   "execution_count": 144,
   "metadata": {},
   "outputs": [
    {
     "data": {
      "image/png": "[encoded data removed]",
      "text/latex": [
       "$\\displaystyle -180.51602565098437$"
      ],
      "text/plain": [
       "-180.51602565098437"
      ]
     },
     "execution_count": 144,
     "metadata": {},
     "output_type": "execute_result"
    }
   ],
   "source": [
    "162966.132954080 - 163146.648979731"
   ]
  },
  {
   "cell_type": "code",
   "execution_count": 152,
   "metadata": {},
   "outputs": [
    {
     "data": {
      "image/png": "[encoded data removed]",
      "text/latex": [
       "$\\displaystyle -300.8600427530182$"
      ],
      "text/plain": [
       "-300.8600427530182"
      ]
     },
     "execution_count": 152,
     "metadata": {},
     "output_type": "execute_result"
    }
   ],
   "source": [
    "163146.648979731-163447.509022484"
   ]
  },
  {
   "cell_type": "code",
   "execution_count": 153,
   "metadata": {},
   "outputs": [
    {
     "data": {
      "image/png": "[encoded data removed]",
      "text/latex": [
       "$\\displaystyle -421.2040598540043$"
      ],
      "text/plain": [
       "-421.2040598540043"
      ]
     },
     "execution_count": 153,
     "metadata": {},
     "output_type": "execute_result"
    }
   ],
   "source": [
    "163447.509022484-163868.713082338"
   ]
  },
  {
   "cell_type": "markdown",
   "metadata": {},
   "source": [
    "Thus potential follows the same quadratic trend as our approximated equation"
   ]
  },
  {
   "cell_type": "code",
   "execution_count": null,
   "metadata": {},
   "outputs": [],
   "source": []
  }
 ],
 "metadata": {
  "kernelspec": {
   "display_name": "Python 3",
   "language": "python",
   "name": "python3"
  },
  "language_info": {
   "codemirror_mode": {
    "name": "ipython",
    "version": 3
   },
   "file_extension": ".py",
   "mimetype": "text/x-python",
   "name": "python",
   "nbconvert_exporter": "python",
   "pygments_lexer": "ipython3",
   "version": "3.7.3"
  }
 },
 "nbformat": 4,
 "nbformat_minor": 2
}
