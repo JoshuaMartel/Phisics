{
 "cells": [
  {
   "cell_type": "markdown",
   "metadata": {},
   "source": [
    "Numerical Solution for a plane dropping a bomb below them given a certian drag and speed"
   ]
  },
  {
   "cell_type": "code",
   "execution_count": 1,
   "metadata": {},
   "outputs": [
    {
     "name": "stdout",
     "output_type": "stream",
     "text": [
      "Populating the interactive namespace from numpy and matplotlib\n"
     ]
    }
   ],
   "source": [
    "%pylab nbagg\n"
   ]
  },
  {
   "cell_type": "code",
   "execution_count": 2,
   "metadata": {},
   "outputs": [],
   "source": [
    "from matplotlib.pyplot import *\n",
    "%matplotlib inline\n",
    " \n",
    "from IPython.display import set_matplotlib_formats\n",
    "set_matplotlib_formats('png', 'pdf')"
   ]
  },
  {
   "cell_type": "code",
   "execution_count": 45,
   "metadata": {},
   "outputs": [],
   "source": [
    "#converts feet to metres, and there are 0.3048 m in 1 ft\n",
    "ft_m = 0.3048\n",
    "#converts hour to seconds\n",
    "frac_time = (1/3600)\n",
    "\n",
    "#initial height\n",
    "y0 = 50000*0.3048\n",
    "#initial position horizontally\n",
    "x0 = 0\n",
    "\n",
    "#various constants to be used\n",
    "g = 9.8\n",
    "rhoa = 1\n",
    "Cd = 0.47\n",
    "r = 0.2\n",
    "m = 100\n",
    "A = pi*r**2\n",
    "vw = 60*5280*ft_m*frac_time\n",
    "c2 = 0.5*Cd*rhoa*A\n",
    "\n",
    "#coefficients of differential equation\n",
    "a = -g\n",
    "b = -c2/m\n",
    "\n",
    "#time period\n",
    "nt = 10000\n",
    "t_start = 0\n",
    "t_end = 5000\n",
    "t = linspace(t_start,t_end,nt)\n",
    "\n",
    "#vp is speed of plain\n",
    "vp = 100.0\n",
    "y = [x0, vp, y0, 0.0]"
   ]
  },
  {
   "cell_type": "code",
   "execution_count": 46,
   "metadata": {},
   "outputs": [],
   "source": [
    "#y1 = x\n",
    "#y2 = vx\n",
    "#y3 = y\n",
    "#y4 = vy\n",
    "#a = -g\n",
    "#b = -c2/m\n",
    "#given dirrerential equation\n",
    "def dy_dt(y, t, a, b, vw):\n",
    "    y1, y2, y3, y4 = y\n",
    "    dydt = [y2, b*(y2+vw)*sqrt((y2+vw)**2+y4**2), y4, a+b*y4*sqrt((y2+vw)**2+y4**2)]\n",
    "    return dydt"
   ]
  },
  {
   "cell_type": "code",
   "execution_count": 47,
   "metadata": {},
   "outputs": [],
   "source": [
    "from scipy.integrate import odeint"
   ]
  },
  {
   "cell_type": "code",
   "execution_count": 48,
   "metadata": {},
   "outputs": [],
   "source": [
    "sol = odeint(dy_dt,y,t, args = (a,b,vw))"
   ]
  },
  {
   "cell_type": "code",
   "execution_count": 49,
   "metadata": {},
   "outputs": [],
   "source": [
    "from scipy.interpolate import interp1d\n"
   ]
  },
  {
   "cell_type": "code",
   "execution_count": 50,
   "metadata": {},
   "outputs": [
    {
     "data": {
      "text/plain": [
       "80.00333790489998"
      ]
     },
     "execution_count": 50,
     "metadata": {},
     "output_type": "execute_result"
    }
   ],
   "source": [
    "#This is to find the solution between 50k ft and ground level\n",
    "#various constants to be used\n",
    "h = sol[0,2]\n",
    "k = 0\n",
    "vp = 100\n",
    "increment = 1\n",
    "\n",
    "#This is to find when the bomb hits the ground\n",
    "#The idea is to move along the array until h becomes negative\n",
    "#(since it's highly unlikely h = 0.0 at any point in the array)\n",
    "#and take only those terms to interpolate\n",
    "while h > 0.0:\n",
    "    k += 1\n",
    "    h = sol[k,2]\n",
    "#to make sure sol[k,2] is included\n",
    "k += 2\n",
    "\n",
    "#finds the time for each point of height\n",
    "pos_y = interp1d(sol[0:k,2],t[0:k])\n",
    "\n",
    "#finds the horizontal position for each time point\n",
    "pos_x = interp1d(t[0:k],sol[0:k,0])\n",
    "\n",
    "#This is for the loop, to keep track of when the horizontal position\n",
    "#changes sign. We use y = 0 because we want to find the time the\n",
    "#the bomb hits the ground and plug that into pos_x\n",
    "past_pos = pos_x(pos_y(0))\n",
    "cur_pos = pos_x(pos_y(0))\n",
    "#used to calucalte accuracy of vp. Additionally, this is also the x\n",
    "#position because we want x = 0\n",
    "diff = abs(pos_x(pos_y(0)))\n",
    "\n",
    "#The idea of this loop is to decrement vp, knowing vp gives a positive \n",
    "#position, until cur_pos becomes negative. Then when know the error\n",
    "#is within 1 of these increments. Then decrease the increment by\n",
    "# 1/10 so we can find the accuracy to the next deciaml point, and\n",
    "#change the sign of the increment. We keep switching back and forth\n",
    "#until the wanted accurecy is attained. In this case the variable\n",
    "#diff\n",
    "while diff > 0.00000001:\n",
    "    k = 0\n",
    "    h = sol[0,2]\n",
    "    #updates past_pos\n",
    "    past_pos = cur_pos\n",
    "    \n",
    "    #the position is a function of vp so we have to re-solve for\n",
    "    #each new vp\n",
    "    while h > 0.0:\n",
    "        k += 1\n",
    "        h = sol[k,2]\n",
    "    k += 2\n",
    "    \n",
    "    pos_y = interp1d(sol[0:k,2],t[0:k])\n",
    "    pos_x = interp1d(t[0:k],sol[0:k,0])\n",
    "    \n",
    "    #update cur_pos\n",
    "    cur_pos = pos_x(pos_y(0))\n",
    "    \n",
    "    #This tests if sign has change, or in other words,\n",
    "    #if we overshot our estimate of vp. If we did, then\n",
    "    #decrease the amount we change the new vp\n",
    "    if cur_pos*past_pos < 0:\n",
    "        increment /= 10\n",
    "        \n",
    "    #change the sign of increment\n",
    "    if cur_pos < 0:\n",
    "        vp += increment\n",
    "    if cur_pos > 0:\n",
    "        vp += -increment\n",
    "      \n",
    "    \n",
    "    #update diff  \n",
    "    diff = abs(pos_x(pos_y(0)))\n",
    "    \n",
    "    #solve for new vp\n",
    "    y = [x0, vp, y0, 0.0]\n",
    "    sol = odeint(dy_dt,y,t, args = (a,b,vw))\n",
    "\n",
    "\n",
    "vp"
   ]
  },
  {
   "cell_type": "code",
   "execution_count": 55,
   "metadata": {},
   "outputs": [
    {
     "name": "stdout",
     "output_type": "stream",
     "text": [
      "The required ground speed of the plane is  80.00333790489998 m/s\n"
     ]
    }
   ],
   "source": [
    "print(\"The required ground speed of the plane is \",vp,\"m/s\")"
   ]
  },
  {
   "cell_type": "markdown",
   "metadata": {},
   "source": [
    "Part b)"
   ]
  },
  {
   "cell_type": "code",
   "execution_count": 51,
   "metadata": {},
   "outputs": [],
   "source": [
    "y = [x0, vp, y0, 0.0]\n",
    "sol = odeint(dy_dt,y,t, args = (a,b,vw))"
   ]
  },
  {
   "cell_type": "code",
   "execution_count": 52,
   "metadata": {},
   "outputs": [],
   "source": [
    "pos_y = interp1d(sol[0:k,2],t[0:k])\n",
    "pos_x = interp1d(t[0:k],sol[0:k,0])"
   ]
  },
  {
   "cell_type": "code",
   "execution_count": 58,
   "metadata": {},
   "outputs": [
    {
     "data": {
      "application/pdf": "[encoded data removed]",
      "image/png": "[encoded data removed]",
      "text/plain": [
       "<Figure size 432x288 with 1 Axes>"
      ]
     },
     "metadata": {
      "needs_background": "light"
     },
     "output_type": "display_data"
    }
   ],
   "source": [
    "figure(3)\n",
    "xlabel(\"Horizontal Position (m)\")\n",
    "ylabel(\"Altitude(m)\")\n",
    "plot(sol[0:k,0],sol[0:k,2])\n",
    "grid()"
   ]
  },
  {
   "cell_type": "markdown",
   "metadata": {},
   "source": [
    "The Trailing end of the trajectory is linear beacuase the bomb reachs\n",
    "terminal velocity, both horizontally and vertically"
   ]
  },
  {
   "cell_type": "markdown",
   "metadata": {},
   "source": [
    "Part c)"
   ]
  },
  {
   "cell_type": "code",
   "execution_count": 59,
   "metadata": {
    "scrolled": true
   },
   "outputs": [],
   "source": [
    "h = sol[0,2]\n",
    "k = 0\n",
    "increment = 1\n",
    "\n",
    "vp_list = []\n",
    "x_list = []\n",
    "\n",
    "#This loop finds the values of x associated with a specific vp at y = 0\n",
    "#thens ands the to vp_list and x_list respectively so they can be\n",
    "#interpolated\n",
    "vp = 50\n",
    "while vp < 100:\n",
    "    \n",
    "    y = [x0, vp, y0, 0.0]\n",
    "    sol = odeint(dy_dt,y,t, args = (a,b,vw))\n",
    "    \n",
    "    k = 0\n",
    "    h = sol[0,2]\n",
    "\n",
    "    while h > 0.0:\n",
    "        k += 1\n",
    "        h = sol[k,2]\n",
    "    k += 2\n",
    "    \n",
    "    pos_y = interp1d(sol[0:k,2],t[0:k])\n",
    "    pos_x = interp1d(t[0:k],sol[0:k,0])\n",
    "    \n",
    "    x = pos_x(pos_y(0))\n",
    "    \n",
    "    #print(\"vp\",vp)      \n",
    "    \n",
    "    vp_list.append(vp)\n",
    "    x_list.append(x)\n",
    "    vp += 0.1"
   ]
  },
  {
   "cell_type": "code",
   "execution_count": 60,
   "metadata": {},
   "outputs": [],
   "source": [
    "fvp = interp1d(x_list,vp_list)"
   ]
  },
  {
   "cell_type": "code",
   "execution_count": 61,
   "metadata": {},
   "outputs": [
    {
     "data": {
      "text/plain": [
       "array(80.0033386)"
      ]
     },
     "execution_count": 61,
     "metadata": {},
     "output_type": "execute_result"
    }
   ],
   "source": [
    "#test\n",
    "fvp(0)"
   ]
  },
  {
   "cell_type": "code",
   "execution_count": 62,
   "metadata": {},
   "outputs": [
    {
     "data": {
      "text/plain": [
       "array(85.30066258)"
      ]
     },
     "execution_count": 62,
     "metadata": {},
     "output_type": "execute_result"
    }
   ],
   "source": [
    "fvp(100)"
   ]
  },
  {
   "cell_type": "code",
   "execution_count": 63,
   "metadata": {},
   "outputs": [
    {
     "data": {
      "text/plain": [
       "array(74.82503864)"
      ]
     },
     "execution_count": 63,
     "metadata": {},
     "output_type": "execute_result"
    }
   ],
   "source": [
    "fvp(-100)"
   ]
  },
  {
   "cell_type": "code",
   "execution_count": 64,
   "metadata": {},
   "outputs": [],
   "source": [
    "#precision will be difference between the two values divided by 2\n",
    "pre = abs(fvp(100)-fvp(-100))/2"
   ]
  },
  {
   "cell_type": "code",
   "execution_count": 65,
   "metadata": {},
   "outputs": [
    {
     "name": "stdout",
     "output_type": "stream",
     "text": [
      "5.2378119710517055\n"
     ]
    }
   ],
   "source": [
    "print(pre)"
   ]
  },
  {
   "cell_type": "markdown",
   "metadata": {},
   "source": [
    "Thus, the pilot must keep their speed within 5.24 m/s of 80.30 m/s for \n",
    "the bomb to land within 100m of the target"
   ]
  },
  {
   "cell_type": "code",
   "execution_count": null,
   "metadata": {},
   "outputs": [],
   "source": []
  }
 ],
 "metadata": {
  "kernelspec": {
   "display_name": "Python 3",
   "language": "python",
   "name": "python3"
  },
  "language_info": {
   "codemirror_mode": {
    "name": "ipython",
    "version": 3
   },
   "file_extension": ".py",
   "mimetype": "text/x-python",
   "name": "python",
   "nbconvert_exporter": "python",
   "pygments_lexer": "ipython3",
   "version": "3.7.3"
  }
 },
 "nbformat": 4,
 "nbformat_minor": 2
}
